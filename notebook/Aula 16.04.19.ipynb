{
 "cells": [
  {
   "cell_type": "code",
   "execution_count": 1,
   "metadata": {},
   "outputs": [],
   "source": [
    "import nltk\n",
    "import unidecode\n",
    "import re"
   ]
  },
  {
   "cell_type": "code",
   "execution_count": 2,
   "metadata": {},
   "outputs": [],
   "source": [
    "sent_tokenizer = nltk.data.load('tokenizers/punkt/portuguese.pickle')\n",
    "from nltk.tokenize import word_tokenize\n",
    "\n",
    "REPLACE_NO_SPACE = re.compile(\"(\\.)|(\\;)|(\\:)|(\\!)|(\\')|(\\?)|(\\,)|(\\\")|(\\()|(\\))|(\\[)|(\\])\")\n",
    "REPLACE_WITH_SPACE = re.compile(\"(<br\\s*/><br\\s*/>)|(\\-)|(\\/)\")\n",
    "\n",
    "def remove_accents(text):\n",
    "    text = unidecode.unidecode(text)\n",
    "    return text\n",
    "\n",
    "def remove_punctuation(text):\n",
    "    no_punc_text = []\n",
    "    for sentence in text:\n",
    "        sentence = REPLACE_NO_SPACE.sub(\"\", sentence)\n",
    "        sentence = REPLACE_WITH_SPACE.sub(\" \", sentence)\n",
    "        no_punc_text.append(sentence)\n",
    "    return no_punc_text\n",
    "\n",
    "def tokenize_sentences(text):\n",
    "    sentences = sent_tokenizer.tokenize(text)\n",
    "    return sentences\n",
    "\n",
    "def tokenize_words(text):\n",
    "    words = []\n",
    "    for sentence in text:\n",
    "        sentence = word_tokenize(sentence, language='portuguese')\n",
    "        words.append(sentence)\n",
    "    return words\n",
    "\n",
    "def lemmatize_text(text):\n",
    "    return text\n",
    "\n",
    "def stemmize_text(text):\n",
    "    stemmer = nltk.stem.RSLPStemmer()\n",
    "    stemmed_words = []\n",
    "    for sentence in text:\n",
    "        stemmed_tokens = [stemmer.stem(token) for token in sentence]\n",
    "        stemmed_words.append(stemmed_tokens)\n",
    "    return stemmed_words"
   ]
  },
  {
   "cell_type": "code",
   "execution_count": 5,
   "metadata": {},
   "outputs": [],
   "source": [
    "def normalization_pipeline(text, removeaccents=False, removepunctuation=False, tokenizesentences=False,\n",
    "                           tokenizewords=False, lemmatize=False, stemmize=False):\n",
    "\n",
    "    text = remove_accents(text) if removeaccents else text\n",
    "    text = tokenize_sentences(text) if tokenizesentences else text\n",
    "    text = remove_punctuation(text) if removepunctuation else text\n",
    "    text = tokenize_words(text) if tokenizewords else text\n",
    "    text = lemmatize_text(text) if lemmatize else text\n",
    "    text = stemmize_text(text) if stemmize else text\n",
    "    \n",
    "    return text"
   ]
  },
  {
   "cell_type": "code",
   "execution_count": 6,
   "metadata": {},
   "outputs": [
    {
     "name": "stdout",
     "output_type": "stream",
     "text": [
      "O rato roeu a roupa do rei! O mesmo ficou em pânico!\n",
      "[['o', 'rat', 'roeu', 'a', 'roup', 'do', 'rei'], ['o', 'mesm', 'fic', 'em', 'panic']]\n"
     ]
    }
   ],
   "source": [
    "text = \"O rato roeu a roupa do rei! O mesmo ficou em pânico!\"\n",
    "print(text)\n",
    "\n",
    "text = normalization_pipeline(text, True, True, True, True, True, True)\n",
    "\n",
    "print(text)"
   ]
  },
  {
   "cell_type": "code",
   "execution_count": 13,
   "metadata": {},
   "outputs": [],
   "source": [
    "import os\n",
    "corpus_path = \"../Data/corpora/tecnologia/\"\n",
    "\n",
    "files = [f for f in os.listdir(corpus_path) if os.path.isfile(os.path.join(corpus_path, f))]\n",
    "\n",
    "corpus_lines = []\n",
    "for file in files:\n",
    "    with open(os.path.join(corpus_path, file), \"r\") as text_file:\n",
    "        lines = text_file.readlines()\n",
    "        corpus_lines.extend(lines)"
   ]
  },
  {
   "cell_type": "code",
   "execution_count": null,
   "metadata": {},
   "outputs": [],
   "source": [
    "corpus_sentences = []\n",
    "for line in corpus_lines:\n",
    "    corpus_sentences.extend(tokenize_sentences(line))\n",
    "\n",
    "normalized_sentences = []\n",
    "for sentence in corpus_sentences:\n",
    "    normalized_sentences"
   ]
  },
  {
   "cell_type": "code",
   "execution_count": null,
   "metadata": {},
   "outputs": [],
   "source": [
    "#bigramas e trigramas"
   ]
  }
 ],
 "metadata": {
  "kernelspec": {
   "display_name": "Python 3",
   "language": "python",
   "name": "python3"
  },
  "language_info": {
   "codemirror_mode": {
    "name": "ipython",
    "version": 3
   },
   "file_extension": ".py",
   "mimetype": "text/x-python",
   "name": "python",
   "nbconvert_exporter": "python",
   "pygments_lexer": "ipython3",
   "version": "3.5.2"
  }
 },
 "nbformat": 4,
 "nbformat_minor": 2
}

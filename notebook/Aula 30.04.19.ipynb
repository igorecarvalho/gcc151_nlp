{
 "cells": [
  {
   "cell_type": "markdown",
   "metadata": {},
   "source": [
    "# Morphosyntax"
   ]
  },
  {
   "cell_type": "code",
   "execution_count": null,
   "metadata": {},
   "outputs": [],
   "source": [
    "import nltk"
   ]
  },
  {
   "cell_type": "markdown",
   "metadata": {},
   "source": [
    "Download corpora:\n",
    "- mac_morpho\n",
    "- floresta"
   ]
  },
  {
   "cell_type": "code",
   "execution_count": null,
   "metadata": {},
   "outputs": [],
   "source": [
    "nltk.download('floresta')\n",
    "nltk.download('mac_morpho')"
   ]
  },
  {
   "cell_type": "code",
   "execution_count": null,
   "metadata": {},
   "outputs": [],
   "source": [
    "from nltk.corpus import mac_morpho, floresta"
   ]
  },
  {
   "cell_type": "markdown",
   "metadata": {},
   "source": [
    "# Mac_morpho"
   ]
  },
  {
   "cell_type": "code",
   "execution_count": null,
   "metadata": {},
   "outputs": [],
   "source": [
    "tagged_sentences = []\n",
    "\n",
    "for sentence in mac_morpho.tagged_sents():\n",
    "    tagged_sentences.append(sentence)\n",
    "print(len(tagged_sentences))"
   ]
  },
  {
   "cell_type": "markdown",
   "metadata": {},
   "source": [
    "# Floresta"
   ]
  },
  {
   "cell_type": "code",
   "execution_count": null,
   "metadata": {},
   "outputs": [],
   "source": [
    "tagged_sentences = []\n",
    "def simplify_tag_floresta(t):\n",
    "    if \"+\" in t:\n",
    "        return t[t.index(\"+\")+1:].upper()\n",
    "    else:\n",
    "        return t.upper()\n",
    "\n",
    "for sentence in floresta.tagged_sents():\n",
    "    sentence = [(text, simplify_tag_floresta(tag)) for text, tag in sentence]\n",
    "    tagged_sentences.append(sentence)\n",
    "print(len(tagged_sentences))"
   ]
  },
  {
   "cell_type": "code",
   "execution_count": null,
   "metadata": {},
   "outputs": [],
   "source": [
    "from collections import Counter\n",
    "\n",
    "all_tags = []\n",
    "for sent in tagged_sentences:\n",
    "    for w, t in sent:\n",
    "        all_tags.append(t)\n",
    "\n",
    "tagset_freq = Counter(all_tags)\n",
    "tagset_freq"
   ]
  },
  {
   "cell_type": "markdown",
   "metadata": {},
   "source": [
    "# Training a tagger"
   ]
  },
  {
   "cell_type": "code",
   "execution_count": null,
   "metadata": {},
   "outputs": [],
   "source": [
    "#caso use a concatenacao do mac_morpho e do floresta sera necessario o embaralhamento dos dados \n",
    "#so apos isso realizar o cutoff.\n",
    "\n",
    "#divide a quantidade total de dados para trabalho\n",
    "cutoff = int(.80 * len(tagged_sentences))\n",
    "#quatidade para treino 80% dos dados\n",
    "training_sentences = tagged_sentences[:cutoff]\n",
    "#quatidade para teste 20% dos dados\n",
    "test_sentences = tagged_sentences[cutoff:]\n",
    "\n",
    "print(len(training_sentences))\n",
    "print(len(test_sentences))"
   ]
  },
  {
   "cell_type": "markdown",
   "metadata": {},
   "source": [
    "# Always a noun"
   ]
  },
  {
   "cell_type": "code",
   "execution_count": null,
   "metadata": {},
   "outputs": [],
   "source": [
    "#taggea todo o texto como 'N', utilizado para criar um base_line\n",
    "#base_line = diz que esta é o pior caso que vc consegue taggear, ou seja, seu modelo deve ser melhor que este\n",
    "tagger_default = nltk.DefaultTagger('N')\n",
    "tagger_default.evaluate(test_sentences)"
   ]
  },
  {
   "cell_type": "markdown",
   "metadata": {},
   "source": [
    "# Most frequent tag"
   ]
  },
  {
   "cell_type": "code",
   "execution_count": null,
   "metadata": {},
   "outputs": [],
   "source": [
    "#taggeamento em nivel de unigrama, ou seja, olha apenas para a palavra atual e define o tag da palavra\n",
    "#como o tag mais utilizado pelo programa\n",
    "\n",
    "#backoff = comeca do tagger anterior\n",
    "#utiliza as sentencas de treino para treinar o algoritmo\n",
    "unigram_tagger = nltk.UnigramTagger(training_sentences, verbose=True, backoff=tagger_default)\n",
    "#utiliza as sentencas de teste para analisar o resultado\n",
    "unigram_tagger.evaluate(test_sentences)"
   ]
  },
  {
   "cell_type": "markdown",
   "metadata": {},
   "source": [
    "# Bigram tagger"
   ]
  },
  {
   "cell_type": "code",
   "execution_count": null,
   "metadata": {},
   "outputs": [],
   "source": [
    "#semelhamente ao unigrama, porem olhando para o tag da palavra anterior(atual-1, atual) e depois para a \n",
    "#posterior(atual, atual+1) para atribuir o tag a para a palavra atual\n",
    "bigram_tagger = nltk.BigramTagger(training_sentences, verbose=True, backoff=unigram_tagger)\n",
    "bigram_tagger.evaluate(test_sentences)"
   ]
  },
  {
   "cell_type": "markdown",
   "metadata": {},
   "source": [
    "# Trigram tagger"
   ]
  },
  {
   "cell_type": "code",
   "execution_count": null,
   "metadata": {},
   "outputs": [],
   "source": [
    "#semelhamente ao unigrama, porem olhando para o tag da janela de tres(atual-1, atual, atual+1) palavras para atribuir\n",
    "#o tag a para a palavra atual\n",
    "trigram_tagger = nltk.TrigramTagger(training_sentences, verbose=True, backoff=bigram_tagger)\n",
    "trigram_tagger.evaluate(test_sentences)"
   ]
  },
  {
   "cell_type": "markdown",
   "metadata": {},
   "source": [
    "# Tagging"
   ]
  },
  {
   "cell_type": "code",
   "execution_count": null,
   "metadata": {},
   "outputs": [],
   "source": [
    "#aconselhavel passar um \"descontrator\" no texto para que tenha um melhor resultado\n",
    "#ex.: do = de + o\n",
    "sentence = \"Dê mais atenção ao que você tem de bom na sua vida\".split()\n",
    "print(\"Default\")\n",
    "tagged_sentence = tagger_default.tag(sentence)\n",
    "print(tagged_sentence)\n",
    "print(\"Unigram\")\n",
    "tagged_sentence = unigram_tagger.tag(sentence)\n",
    "print(tagged_sentence)\n",
    "print(\"Bigram\")\n",
    "tagged_sentence = bigram_tagger.tag(sentence)\n",
    "print(tagged_sentence)\n",
    "print(\"Trigram\")\n",
    "tagged_sentence = trigram_tagger.tag(sentence)\n",
    "print(tagged_sentence)"
   ]
  },
  {
   "cell_type": "code",
   "execution_count": null,
   "metadata": {},
   "outputs": [],
   "source": [
    "import pickle"
   ]
  },
  {
   "cell_type": "code",
   "execution_count": null,
   "metadata": {},
   "outputs": [],
   "source": [
    "with open('bigram_tagger.pickle', 'wb') as p_file:\n",
    "    p_file.write(pickle.dumps(bigram_tagger))"
   ]
  },
  {
   "cell_type": "markdown",
   "metadata": {},
   "source": [
    "# Other corpus\n",
    "http://www.nilc.icmc.usp.br/nilc/download/corpus100.txt"
   ]
  },
  {
   "cell_type": "markdown",
   "metadata": {},
   "source": [
    "# Other taggers"
   ]
  },
  {
   "cell_type": "code",
   "execution_count": null,
   "metadata": {},
   "outputs": [],
   "source": [
    "import spacy"
   ]
  },
  {
   "cell_type": "code",
   "execution_count": null,
   "metadata": {},
   "outputs": [],
   "source": [
    "import subprocess\n",
    "command = \"python -m spacy download pt_core_news_sm\".split()\n",
    "subprocess.call(command)"
   ]
  },
  {
   "cell_type": "code",
   "execution_count": null,
   "metadata": {},
   "outputs": [],
   "source": [
    "nlp = spacy.load('pt_core_news_sm')\n",
    "sentence = \"O rato comeu a roupa do rei de roma\"\n",
    "doc = nlp(sentence)\n",
    "for token in doc:\n",
    "    print(token.text, token.pos_, token.tag_, token.lang_)"
   ]
  },
  {
   "cell_type": "code",
   "execution_count": null,
   "metadata": {},
   "outputs": [],
   "source": [
    "import nlpnet"
   ]
  },
  {
   "cell_type": "markdown",
   "metadata": {},
   "source": [
    "Download model from http://nilc.icmc.usp.br/nlpnet/data/pos-pt.tgz"
   ]
  },
  {
   "cell_type": "code",
   "execution_count": null,
   "metadata": {},
   "outputs": [],
   "source": [
    "nlpnet.set_data_dir('pos-pt/')\n",
    "sentence = \"O rato comeu a roupa do rei de roma\"\n",
    "tagger = nlpnet.POSTagger()\n",
    "tagger.tag(sentence)"
   ]
  },
  {
   "cell_type": "code",
   "execution_count": null,
   "metadata": {},
   "outputs": [],
   "source": []
  }
 ],
 "metadata": {
  "kernelspec": {
   "display_name": "Python 3",
   "language": "python",
   "name": "python3"
  },
  "language_info": {
   "codemirror_mode": {
    "name": "ipython",
    "version": 3
   },
   "file_extension": ".py",
   "mimetype": "text/x-python",
   "name": "python",
   "nbconvert_exporter": "python",
   "pygments_lexer": "ipython3",
   "version": "3.5.2"
  }
 },
 "nbformat": 4,
 "nbformat_minor": 2
}

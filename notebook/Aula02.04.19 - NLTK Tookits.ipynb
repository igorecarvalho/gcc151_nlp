{
 "cells": [
  {
   "cell_type": "code",
   "execution_count": null,
   "metadata": {},
   "outputs": [],
   "source": [
    "import nltk\n",
    "import spacy"
   ]
  },
  {
   "cell_type": "code",
   "execution_count": null,
   "metadata": {},
   "outputs": [],
   "source": [
    "nltk.download()"
   ]
  },
  {
   "cell_type": "code",
   "execution_count": null,
   "metadata": {},
   "outputs": [],
   "source": [
    "import os\n",
    "corpora_path = '../data/corpora/'\n",
    "corpora_dirs = os.listdir(corpora_path)\n",
    "corpora_dirs = [d for d in corpora_dirs if d not in '.DS_Store']\n",
    "\n",
    "corpora = {}\n",
    "for corpus in corpora_dirs:\n",
    "    if corpus != 'CSTNews 6.0':\n",
    "        files = [os.path.join(corpora_path + corpus, f) \\\n",
    "                 for f in os.listdir(corpora_path + corpus) \\\n",
    "                 if os.path.isfile(os.path.join(corpora_path + corpus, f))]\n",
    "        corpora[corpus] = {'raw': [], 'tokenized': [], 'words': []}\n",
    "        for file in files:\n",
    "            with open(file, 'r', encoding='iso-8859-1') as txt_file:\n",
    "                lines = txt_file.readlines()\n",
    "                corpora[corpus]['raw'].append(lines)"
   ]
  },
  {
   "cell_type": "code",
   "execution_count": null,
   "metadata": {},
   "outputs": [],
   "source": [
    "corpora.keys()"
   ]
  },
  {
   "cell_type": "code",
   "execution_count": null,
   "metadata": {},
   "outputs": [],
   "source": [
    "sent_tokenizer = nltk.data.load('tokenizers/punkt/portuguese.pickle')\n",
    "\n",
    "# segment sentences per line\n",
    "for corpus, infos in corpora.items():\n",
    "    sentences = []\n",
    "    corpora[corpus]['words'] = []\n",
    "    words = []\n",
    "    \n",
    "    for text in infos['raw']:\n",
    "        for line in text:\n",
    "            tmp_sentences = sent_tokenizer.tokenize(line.strip())\n",
    "            tokens = [nltk.tokenize.word_tokenize(sentence) for sentence in tmp_sentences]\n",
    "            sentences.append(tokens)\n",
    "            for doc in tokens:\n",
    "                words.extend([w for w in doc])\n",
    "            \n",
    "    corpora[corpus]['processed'] = sentences\n",
    "    corpora[corpus]['words'].extend(words)\n",
    "\n",
    "# find and join collocations\n",
    "# http://www.nltk.org/howto/collocations.html"
   ]
  },
  {
   "cell_type": "code",
   "execution_count": null,
   "metadata": {},
   "outputs": [],
   "source": [
    "print(len(corpora['Pediatria']['words']))"
   ]
  },
  {
   "cell_type": "code",
   "execution_count": null,
   "metadata": {},
   "outputs": [],
   "source": [
    "# collocations\n",
    "bigram_measures = nltk.collocations.BigramAssocMeasures()\n",
    "trigram_measures = nltk.collocations.TrigramAssocMeasures()\n",
    "finder = nltk.collocations.BigramCollocationFinder.from_words(corpora['Geologia']['words'])\n",
    "finder.apply_freq_filter(5)"
   ]
  },
  {
   "cell_type": "code",
   "execution_count": null,
   "metadata": {},
   "outputs": [],
   "source": [
    "print(finder.nbest(bigram_measures.pmi, 20))"
   ]
  },
  {
   "cell_type": "code",
   "execution_count": null,
   "metadata": {},
   "outputs": [],
   "source": []
  }
 ],
 "metadata": {
  "kernelspec": {
   "display_name": "Python 3",
   "language": "python",
   "name": "python3"
  },
  "language_info": {
   "codemirror_mode": {
    "name": "ipython",
    "version": 3
   },
   "file_extension": ".py",
   "mimetype": "text/x-python",
   "name": "python",
   "nbconvert_exporter": "python",
   "pygments_lexer": "ipython3",
   "version": "3.5.2"
  }
 },
 "nbformat": 4,
 "nbformat_minor": 2
}
